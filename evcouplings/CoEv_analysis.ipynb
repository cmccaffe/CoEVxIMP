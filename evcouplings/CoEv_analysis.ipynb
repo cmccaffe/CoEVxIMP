{
 "cells": [
  {
   "cell_type": "markdown",
   "metadata": {},
   "source": [
    "# Welcome to the instructional evolutionary coupling notebook\n",
    "# First we will load in all modules"
   ]
  },
  {
   "cell_type": "code",
   "execution_count": null,
   "metadata": {},
   "outputs": [],
   "source": [
    "import pandas as pd\n",
    "import matplotlib.pyplot as plt\n",
    "from biopandas.pdb import PandasPdb\n",
    "import numpy as np\n",
    "import statistics\n",
    "import seaborn as sns"
   ]
  },
  {
   "cell_type": "markdown",
   "metadata": {},
   "source": [
    "# Next we will load in all functions needed to compute the analysis"
   ]
  },
  {
   "cell_type": "code",
   "execution_count": null,
   "metadata": {},
   "outputs": [],
   "source": [
    "# define all functions\n",
    "\n",
    "def distance_calc(tmp_df):\n",
    "\n",
    "    res_1 = subsubpdb.loc[(subsubpdb['chain_id'] == tmp_df.segment_i) & (subsubpdb['residue_number'] == int(tmp_df.i))]\n",
    "    res_2 = subsubpdb.loc[(subsubpdb['chain_id'] == tmp_df.segment_j) & (subsubpdb['residue_number'] == int(tmp_df.j))]\n",
    "    #print(res_1.as_matrix(columns=res_2.columns[11:14]))\n",
    "    dist = np.linalg.norm(res_1.as_matrix(columns=res_2.columns[11:14])-res_2.as_matrix(columns=res_2.columns[11:14]))\n",
    "    return dist\n",
    "\n",
    "def fg(n):\n",
    "    try:\n",
    "        a = intra_df.loc[intra_df.MA.ge(n)].index[0]\n",
    "        return a\n",
    "    except:\n",
    "        print('None')\n",
    "        \n",
    "def new_coupling_cutoff(tmp_df, cutoff):\n",
    "    cutoff_threshold = cutoff # the distance cutoff threshold, we will be testing 20, 15, and 10\n",
    "    top_scores = tmp_df.head(fg(cutoff_threshold))\n",
    "    cutoff_score = top_scores['cn'].iloc[-1]\n",
    "    inter_top_scores = top_scores[(top_scores['segment_i']==chain1) & (top_scores['segment_j']==chain2)]\n",
    "    inter_scores = tmp_df[(tmp_df['segment_i']==chain1) & (tmp_df['segment_j']==chain2)]\n",
    "\n",
    "    return cutoff_score, inter_top_scores, inter_scores"
   ]
  },
  {
   "cell_type": "markdown",
   "metadata": {},
   "source": [
    "# The following will walk through the computation"
   ]
  },
  {
   "cell_type": "code",
   "execution_count": null,
   "metadata": {},
   "outputs": [],
   "source": [
    "# set all variables\n",
    "coev_file = '/home/cns-mccafferty/Ecoli_CoEv_modeling/output/C1CMI6_C1CMI5/couplings/C1CMI6_C1CMI5_CouplingScores.csv' # this is the location of the coupling file\n",
    "pdb_file = '4I98' # this is the name of the pdb being analyzed\n",
    "chain1 = 'A' # this is the first chain in the name of the coupling file\n",
    "chain2 = 'C' # this is the second chain in the name of the coupling file"
   ]
  },
  {
   "cell_type": "code",
   "execution_count": null,
   "metadata": {},
   "outputs": [],
   "source": [
    "# open coev scores file\n",
    "coev = pd.read_csv(coev_file)\n",
    "# open pdb as a dataframe\n",
    "# extract dataframes with record_name atom and atom_name CB\n",
    "ppdb = PandasPdb().fetch_pdb(pdb_file)\n",
    "#ppdb = PandasPdb().read_pdb('/home/cns-mccafferty/IMP_IFTA/' + pdb_file)\n",
    "#ppdb2 = PandasPdb().read_pdb('/home/cns-mccafferty/Ecoli_cellulosesecsys/P0ADJ3/' + pdbfile2)"
   ]
  },
  {
   "cell_type": "code",
   "execution_count": null,
   "metadata": {},
   "outputs": [],
   "source": [
    "pdbdict = ppdb.df['ATOM']\n",
    "subpdb = pdbdict[(pdbdict['atom_name']=='CB')]\n",
    "subsubpdb = subpdb[(subpdb['chain_id']==chain1) | (subpdb['chain_id']==chain2)]\n",
    "\n",
    "# pulls out the top 50,000 couplings\n",
    "tmp_df = coev.head(50000)\n",
    "tmp_df.loc[tmp_df.segment_i == 'A_1', 'segment_i'] = chain1\n",
    "tmp_df.loc[tmp_df.segment_i == 'B_1', 'segment_i'] = chain2\n",
    "tmp_df.loc[tmp_df.segment_j == 'A_1', 'segment_j'] = chain1\n",
    "tmp_df.loc[tmp_df.segment_j == 'B_1', 'segment_j'] = chain2\n",
    "\n",
    "# calculates distance for all pairs selected from evolutionary couplings\n",
    "tmp_df['distance'] = tmp_df.apply(distance_calc, axis=1)\n",
    "tmp_df = tmp_df[tmp_df.distance != 0]\n",
    "print(tmp_df.head())\n",
    "# calculate rolling mean for intramolecular predictions on increments of 10\n",
    "intra_df = tmp_df[(tmp_df['segment_i']==tmp_df['segment_j'])]\n",
    "#intra_df = intra_df[intra_df.distance != 0]\n",
    "intra_df['MA'] = intra_df['distance'].rolling(10).mean()"
   ]
  },
  {
   "cell_type": "code",
   "execution_count": null,
   "metadata": {},
   "outputs": [],
   "source": [
    "cutoff20, coev20, inter_scores = new_coupling_cutoff(tmp_df, 20)\n",
    "cutoff15, coev15, inter_scores = new_coupling_cutoff(tmp_df, 15)\n",
    "cutoff10, coev10, inter_scores = new_coupling_cutoff(tmp_df, 10)"
   ]
  },
  {
   "cell_type": "code",
   "execution_count": null,
   "metadata": {},
   "outputs": [],
   "source": [
    "# saves intra- and inter-molecular pairs to csv files\n",
    "path = '/home/cns-mccafferty/Ecoli_CoEv_modeling/output/C1CMI6_C1CMI5/couplings/' # change this to the correct path\n",
    "coev20.to_csv(path + '/inter_' +pdb_file+chain1+chain2 + '_20cutoff.csv')\n",
    "coev15.to_csv(path + '/inter_' +pdb_file+chain1+chain2 + '_15cutoff.csv')\n",
    "coev10.to_csv(path + '/inter_' +pdb_file+chain1+chain2 + '_10cutoff.csv')"
   ]
  },
  {
   "cell_type": "markdown",
   "metadata": {},
   "source": [
    "# Detecting intermolecular couplings between identical subunits (skip if you are not trying to do this)"
   ]
  },
  {
   "cell_type": "code",
   "execution_count": null,
   "metadata": {},
   "outputs": [],
   "source": [
    "# calculate the 100 pair rolling mean \n",
    "intra_df['MAL'] = intra_df['distance'].rolling(100).mean().shift(-99)"
   ]
  },
  {
   "cell_type": "code",
   "execution_count": null,
   "metadata": {},
   "outputs": [],
   "source": [
    "# calculate the 100 pair standard dev\n",
    "intra_df['Std'] = intra_df['distance'].rolling(100).std().shift(-99)"
   ]
  },
  {
   "cell_type": "code",
   "execution_count": null,
   "metadata": {},
   "outputs": [],
   "source": [
    "# calculate the 2std +- average for each point\n",
    "intra_df['underline'] = intra_df['MAL'] - 2 * intra_df['Std']\n",
    "intra_df['overline'] = intra_df['MAL'] + 2 * intra_df['Std']"
   ]
  },
  {
   "cell_type": "code",
   "execution_count": null,
   "metadata": {},
   "outputs": [],
   "source": [
    "# the strict threshold uses the 10A cutoff\n",
    "strict = intra_df[intra_df['cn'] > cutoff10]"
   ]
  },
  {
   "cell_type": "code",
   "execution_count": null,
   "metadata": {},
   "outputs": [],
   "source": [
    "# intermolecular contacts inferred based on intras that are gerater than avg + 2std\n",
    "inters = strict[strict['distance'] > strict['overline']]"
   ]
  },
  {
   "cell_type": "code",
   "execution_count": null,
   "metadata": {},
   "outputs": [],
   "source": [
    "# showing the inferred inters\n",
    "inters.head(20)"
   ]
  },
  {
   "cell_type": "code",
   "execution_count": null,
   "metadata": {},
   "outputs": [],
   "source": [
    "# inferred inters are removed and new 10A cutoff is calculated and we repeated the above with new cutoff\n",
    "intra_df = intra_df.drop(inters.index)\n",
    "intra_df['MA'] = intra_df['distance'].rolling(10).mean()\n",
    "cutoff102, coev10, inter_scores = new_coupling_cutoff(tmp_df, 10)\n",
    "strict2 = intra_df[intra_df['cn'] > cutoff102]\n",
    "inters2 = pd.concat([strict2[strict2['distance'] > strict2['overline']],inters])"
   ]
  },
  {
   "cell_type": "code",
   "execution_count": null,
   "metadata": {},
   "outputs": [],
   "source": [
    "cutoff102"
   ]
  },
  {
   "cell_type": "code",
   "execution_count": null,
   "metadata": {},
   "outputs": [],
   "source": [
    "inters2"
   ]
  },
  {
   "cell_type": "code",
   "execution_count": null,
   "metadata": {},
   "outputs": [],
   "source": [
    "# inferred inters are removed and new 10A cutoff is calculated and we repeated the above with new cutoff\n",
    "intra_df = intra_df.drop(strict2[strict2['distance'] > strict2['overline']].index)\n",
    "intra_df['MA'] = intra_df['distance'].rolling(10).mean()\n",
    "cutoff103, coev10, inter_scores = new_coupling_cutoff(tmp_df, 10)\n",
    "strict3 = intra_df[intra_df['cn'] > cutoff103]\n",
    "inters3 = pd.concat([strict3[strict3['distance'] > strict3['overline']],inters2])"
   ]
  },
  {
   "cell_type": "code",
   "execution_count": null,
   "metadata": {},
   "outputs": [],
   "source": [
    "cutoff103"
   ]
  },
  {
   "cell_type": "code",
   "execution_count": null,
   "metadata": {},
   "outputs": [],
   "source": [
    "inters3"
   ]
  },
  {
   "cell_type": "code",
   "execution_count": null,
   "metadata": {},
   "outputs": [],
   "source": [
    "# inferred inters are removed and new 10A cutoff is calculated and we repeated the above with new cutoff\n",
    "intra_df = intra_df.drop(strict3[strict3['distance'] > strict3['overline']].index)\n",
    "intra_df['MA'] = intra_df['distance'].rolling(10).mean()\n",
    "cutoff104, coev10, inter_scores = new_coupling_cutoff(tmp_df, 10)\n",
    "strict4 = intra_df[intra_df['cn'] > cutoff104]\n",
    "inters4 = pd.concat([strict4[strict4['distance'] > strict4['overline']],inters3])"
   ]
  },
  {
   "cell_type": "code",
   "execution_count": null,
   "metadata": {},
   "outputs": [],
   "source": [
    "cutoff104"
   ]
  },
  {
   "cell_type": "code",
   "execution_count": null,
   "metadata": {},
   "outputs": [],
   "source": [
    "inters4"
   ]
  },
  {
   "cell_type": "code",
   "execution_count": null,
   "metadata": {},
   "outputs": [],
   "source": [
    "# inferred inters are removed and new 10A cutoff is calculated and we repeated the above with new cutoff\n",
    "intra_df = intra_df.drop(strict4[strict4['distance'] > strict4['overline']].index)\n",
    "intra_df['MA'] = intra_df['distance'].rolling(10).mean()\n",
    "cutoff105, coev10, inter_scores = new_coupling_cutoff(tmp_df, 10)\n",
    "strict5 = intra_df[intra_df['cn'] > cutoff105]\n",
    "inters5 = pd.concat([strict5[strict5['distance'] > strict5['overline']],inters4])"
   ]
  },
  {
   "cell_type": "code",
   "execution_count": null,
   "metadata": {},
   "outputs": [],
   "source": [
    "cutoff105"
   ]
  },
  {
   "cell_type": "code",
   "execution_count": null,
   "metadata": {},
   "outputs": [],
   "source": [
    "# inferred inters are removed and new 10A cutoff is calculated and we repeated the above with new cutoff\n",
    "intra_df = intra_df.drop(strict5[strict5['distance'] > strict5['overline']].index)\n",
    "intra_df['MA'] = intra_df['distance'].rolling(10).mean()\n",
    "cutoff106, coev10, inter_scores = new_coupling_cutoff(tmp_df, 10)"
   ]
  },
  {
   "cell_type": "code",
   "execution_count": null,
   "metadata": {},
   "outputs": [],
   "source": [
    "# cutoff doesn't change so we know we can stop at the fifth iteration\n",
    "cutoff106"
   ]
  },
  {
   "cell_type": "code",
   "execution_count": null,
   "metadata": {},
   "outputs": [],
   "source": [
    "# get a list of all intra contacts that are predicted to actually be inter contacts\n",
    "intratointer = inters5[inters5['segment_i'] == 'C'].drop(['distance', 'MA', 'MAL', 'Std', 'underline', 'overline'], axis=1)\n",
    "intratointer['segment_i'] = intratointer['segment_i'].replace(['C'], 'B')\n",
    "pdbdict = ppdb.df['ATOM']\n",
    "subpdb = pdbdict[(pdbdict['atom_name']=='CB')]\n",
    "subsubpdb = subpdb[(subpdb['chain_id']=='B') | (subpdb['chain_id']=='C')]\n",
    "intratointer['distance'] = intratointer.apply(distance_calc, axis=1) # calculates new distances based on inters"
   ]
  },
  {
   "cell_type": "code",
   "execution_count": null,
   "metadata": {},
   "outputs": [],
   "source": [
    "# listing all contacts with new distance\n",
    "intratointer"
   ]
  },
  {
   "cell_type": "code",
   "execution_count": null,
   "metadata": {},
   "outputs": [],
   "source": [
    "intratointer = intratointer[intratointer.distance != 0]\n",
    "print(intratointer.head())"
   ]
  },
  {
   "cell_type": "markdown",
   "metadata": {},
   "source": [
    "# Graphing-- this will need to be adjusted based on the data that is being plotted"
   ]
  },
  {
   "cell_type": "code",
   "execution_count": null,
   "metadata": {},
   "outputs": [],
   "source": [
    "path = '/home/cns-mccafferty/Ecoli_CoEv_modeling/output/C1CMI6_C1CMI5/couplings/' # change this to the correct path"
   ]
  },
  {
   "cell_type": "code",
   "execution_count": null,
   "metadata": {},
   "outputs": [],
   "source": [
    "plt.rcParams.update({'font.size': 20})\n",
    "pal =sns.cubehelix_palette(4)\n",
    "pal.as_hex()"
   ]
  },
  {
   "cell_type": "code",
   "execution_count": null,
   "metadata": {},
   "outputs": [],
   "source": [
    "ax = intra_df.plot(kind='scatter', x='cn', y='distance',\n",
    "                                           color='#898D6C', label='Intramolecular Contacts', figsize=(12,7.5), s=50)\n",
    "inters.plot(kind='scatter', x='cn', y='distance',\n",
    "                                           color='darkslategrey', label='Intramolecular Outliers', ax=ax, s=50)\n",
    "# intratointer.plot(kind='scatter', x='cn', y='distance',\n",
    "#                                            color='#2d1e3e', label='Intermolecular Contacts', ax=ax, s=50)\n",
    "# inter_scores.plot(kind='scatter', x='cn', y='distance',\n",
    "#                                          color='#edd1cb', label='Intermolecular Contacts', ax=ax, s=50)\n",
    "# ax.axvline(x=cutoff20, color='black', label='20 A Cutoff')\n",
    "# ax.axvline(x=cutoff15, color='black', linestyle='--', label='15 A Cutoff')\n",
    "ax.axvline(x=cutoff10, color='black', linestyle=':', label='10 A Cutoff')\n",
    "# ax.axvline(x=cutoff102, color='black', linestyle=':')\n",
    "# ax.axvline(x=cutoff103, color='black', linestyle=':')\n",
    "# ax.axvline(x=cutoff104, color='black', linestyle=':')\n",
    "# ax.axvline(x=cutoff105, color='black', linestyle=':', label='10 A Cutoff')\n",
    "\n",
    "intra_df.plot(kind='line', x='cn', y='MAL',\n",
    "                                    color='black', ax=ax, label='Moving Average')\n",
    "\n",
    "# ax.fill_between(strict5['cn'],strict5['underline'], strict5['overline'], color='grey', alpha=0.2)\n",
    "\n",
    "# coev20.plot(kind='scatter', x='cn', y='distance',\n",
    "#                                            color='#c8879e', label='Predicted 20 A Intermolecular Contacts', ax=ax, s=50)\n",
    "# coev15.plot(kind='scatter', x='cn', y='distance',\n",
    "#                                            color='#834c7d', label='Predicted 15 A Intermolecular Contacts', ax=ax, s=50)\n",
    "# coev10.plot(kind='scatter', x='cn', y='distance',\n",
    "#                                            color='#2d1e3e', label='Predicted 10 A Intermolecular Contacts', ax=ax, s=50)\n",
    "plt.legend()\n",
    "plt.xlim(0, 1.61) # adjust as needed\n",
    "# plt.savefig(path+pdb_file+chain1+chain2+'_adjustinterall_dist.png')\n",
    "plt.savefig(path+'newlegend.png')\n",
    "\n"
   ]
  }
 ],
 "metadata": {
  "kernelspec": {
   "display_name": "Python 3",
   "language": "python",
   "name": "python3"
  },
  "language_info": {
   "codemirror_mode": {
    "name": "ipython",
    "version": 3
   },
   "file_extension": ".py",
   "mimetype": "text/x-python",
   "name": "python",
   "nbconvert_exporter": "python",
   "pygments_lexer": "ipython3",
   "version": "3.7.4"
  }
 },
 "nbformat": 4,
 "nbformat_minor": 2
}
